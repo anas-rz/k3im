{
  "cells": [
    {
      "cell_type": "code",
      "execution_count": null,
      "metadata": {},
      "outputs": [],
      "source": [
        "!git clone https://github.com/anas-rz/k3im.git"
      ]
    },
    {
      "cell_type": "code",
      "execution_count": 1,
      "metadata": {
        "id": "NOZYc1_yDiEK"
      },
      "outputs": [
        {
          "name": "stdout",
          "output_type": "stream",
          "text": [
            "Requirement already satisfied: keras in /home/anas/miniconda3/envs/dfd_keras_core/lib/python3.11/site-packages (3.0.0)\n",
            "Requirement already satisfied: absl-py in /home/anas/miniconda3/envs/dfd_keras_core/lib/python3.11/site-packages (from keras) (2.0.0)\n",
            "Requirement already satisfied: numpy in /home/anas/miniconda3/envs/dfd_keras_core/lib/python3.11/site-packages (from keras) (1.24.3)\n",
            "Requirement already satisfied: rich in /home/anas/miniconda3/envs/dfd_keras_core/lib/python3.11/site-packages (from keras) (13.7.0)\n",
            "Requirement already satisfied: namex in /home/anas/miniconda3/envs/dfd_keras_core/lib/python3.11/site-packages (from keras) (0.0.7)\n",
            "Requirement already satisfied: h5py in /home/anas/miniconda3/envs/dfd_keras_core/lib/python3.11/site-packages (from keras) (3.9.0)\n",
            "Requirement already satisfied: dm-tree in /home/anas/miniconda3/envs/dfd_keras_core/lib/python3.11/site-packages (from keras) (0.1.8)\n",
            "Requirement already satisfied: markdown-it-py>=2.2.0 in /home/anas/miniconda3/envs/dfd_keras_core/lib/python3.11/site-packages (from rich->keras) (3.0.0)\n",
            "Requirement already satisfied: pygments<3.0.0,>=2.13.0 in /home/anas/miniconda3/envs/dfd_keras_core/lib/python3.11/site-packages (from rich->keras) (2.17.2)\n",
            "Requirement already satisfied: mdurl~=0.1 in /home/anas/miniconda3/envs/dfd_keras_core/lib/python3.11/site-packages (from markdown-it-py>=2.2.0->rich->keras) (0.1.2)\n"
          ]
        }
      ],
      "source": [
        "!pip install keras --upgrade\n",
        "from utils import check_keras_3"
      ]
    },
    {
      "cell_type": "code",
      "execution_count": 2,
      "metadata": {},
      "outputs": [
        {
          "name": "stderr",
          "output_type": "stream",
          "text": [
            "2023-12-05 12:44:16.946902: I tensorflow/core/util/port.cc:110] oneDNN custom operations are on. You may see slightly different numerical results due to floating-point round-off errors from different computation orders. To turn them off, set the environment variable `TF_ENABLE_ONEDNN_OPTS=0`.\n",
            "2023-12-05 12:44:16.974958: I tensorflow/core/platform/cpu_feature_guard.cc:182] This TensorFlow binary is optimized to use available CPU instructions in performance-critical operations.\n",
            "To enable the following instructions: AVX2 AVX512F AVX512_VNNI FMA, in other operations, rebuild TensorFlow with the appropriate compiler flags.\n",
            "2023-12-05 12:44:17.384398: W tensorflow/compiler/tf2tensorrt/utils/py_utils.cc:38] TF-TRT Warning: Could not find TensorRT\n"
          ]
        },
        {
          "name": "stdout",
          "output_type": "stream",
          "text": [
            "Keras version: 3.0.0\n"
          ]
        }
      ],
      "source": [
        "check_keras_3()"
      ]
    },
    {
      "cell_type": "code",
      "execution_count": null,
      "metadata": {},
      "outputs": [],
      "source": []
    }
  ],
  "metadata": {
    "colab": {
      "provenance": []
    },
    "kernelspec": {
      "display_name": "Python 3",
      "name": "python3"
    },
    "language_info": {
      "codemirror_mode": {
        "name": "ipython",
        "version": 3
      },
      "file_extension": ".py",
      "mimetype": "text/x-python",
      "name": "python",
      "nbconvert_exporter": "python",
      "pygments_lexer": "ipython3",
      "version": "3.11.5"
    }
  },
  "nbformat": 4,
  "nbformat_minor": 0
}
