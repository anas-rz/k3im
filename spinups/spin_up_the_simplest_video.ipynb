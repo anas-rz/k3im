{
  "cells": [
    {
      "cell_type": "code",
      "execution_count": null,
      "metadata": {},
      "outputs": [],
      "source": [
        "!pip install keras medmnist -qq --upgrade\n",
        "!git clone https://github.com/anas-rz/k3im.git\n",
        "\n",
        "import sys\n",
        "import os\n",
        "\n",
        "sys.path.append('/content/k3im')\n",
        "os.environ['KERAS_BACKEND'] = 'jax'"
      ]
    }
  ],
  "metadata": {
    "colab": {
      "provenance": []
    },
    "kernelspec": {
      "display_name": "Python 3",
      "name": "python3"
    },
    "language_info": {
      "codemirror_mode": {
        "name": "ipython",
        "version": 3
      },
      "file_extension": ".py",
      "mimetype": "text/x-python",
      "name": "python",
      "nbconvert_exporter": "python",
      "pygments_lexer": "ipython3",
      "version": "3.11.5"
    }
  },
  "nbformat": 4,
  "nbformat_minor": 0
}
